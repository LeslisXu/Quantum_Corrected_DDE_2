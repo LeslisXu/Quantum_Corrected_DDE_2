{
 "cells": [
  {
   "cell_type": "code",
   "execution_count": 4,
   "id": "5c34f4a5",
   "metadata": {},
   "outputs": [
    {
     "name": "stdout",
     "output_type": "stream",
     "text": [
      "U_flat1 = [ 0.00000000e+00  1.00000000e+00  1.22464680e-16  0.00000000e+00\n",
      "  6.12323400e-17  7.49879891e-33 -0.00000000e+00 -1.00000000e+00\n",
      " -1.22464680e-16]\n",
      "U_flat2 = [ 0.00000000e+00  1.00000000e+00  1.22464680e-16  0.00000000e+00\n",
      "  6.12323400e-17  7.49879891e-33 -0.00000000e+00 -1.00000000e+00\n",
      " -1.22464680e-16]\n",
      "X shape: (3, 3) Y shape: (3, 3) U shape: (3, 3)\n",
      "Flatten 后 U_flat: (9,)\n",
      "坐标矩阵 XY_flat: (9, 2)\n"
     ]
    }
   ],
   "source": [
    "import numpy as np\n",
    "\n",
    "# 1. 定义一维坐标\n",
    "# 比如 x、y 都从 0 到 1，分别取 11 个点\n",
    "x = np.linspace(0.0, 1.0, 3)   # 形状 (11,)\n",
    "y = np.linspace(0.0, -1.0, 3)   # 形状 (11,)\n",
    "\n",
    "# 2. 构造二维网格\n",
    "# X, Y 都是形状 (11, 11)\n",
    "X, Y = np.meshgrid(x, y, indexing='xy')\n",
    "\n",
    "# 3. 在网格上定义一个物理量，例如 u(x,y) = sin(pi x) * cos(pi y)\n",
    "U = np.sin(np.pi * X) * np.cos(np.pi * Y)\n",
    "# 此时 U.shape == (11, 11)\n",
    "\n",
    "# 4. 将二维数组拉平成一维\n",
    "U_flat1 = U.ravel()      # 形状 (121,)\n",
    "U_flat2 = U.flatten()    # 同样是 (121,)\n",
    "print(f'U_flat1 = {U_flat1}\\nU_flat2 = {U_flat2}')\n",
    "# 如果需要同时得到对应的坐标，也可以这样做：\n",
    "# 将 X,Y 拉平，然后堆叠成 (N,2) 的坐标矩阵\n",
    "XY_flat = np.vstack([X.ravel(), Y.ravel()]).T\n",
    "# XY_flat.shape == (121, 2)，每行是一个 (x, y) 对应点\n",
    "\n",
    "# 打印一下确认\n",
    "print(\"X shape:\", X.shape, \"Y shape:\", Y.shape, \"U shape:\", U.shape)\n",
    "print(\"Flatten 后 U_flat:\", U_flat1.shape)\n",
    "print(\"坐标矩阵 XY_flat:\", XY_flat.shape)\n"
   ]
  },
  {
   "cell_type": "code",
   "execution_count": 7,
   "id": "5e3fa0a3",
   "metadata": {},
   "outputs": [],
   "source": [
    "import numpy as np\n",
    "\n",
    "# 方法1：直接定义二维数组\n",
    "physical_2d = np.array([[1, 2], [4, 5], [7, 8]])\n",
    "# 方法1：flatten() - 返回副本（不影响原数组）\n",
    "physical_1d_flatten = physical_2d.flatten()\n",
    "\n",
    "# 方法2：ravel() - 返回视图（修改视图会影响原数组）\n",
    "physical_1d_ravel = physical_2d.ravel()\n",
    "\n",
    "# 方法3：reshape(-1) - 显式展平（等效于ravel()）\n",
    "physical_1d_reshape = physical_2d.reshape(-1)\n",
    "\n"
   ]
  },
  {
   "cell_type": "code",
   "execution_count": 8,
   "id": "cd9f64b3",
   "metadata": {},
   "outputs": [
    {
     "name": "stdout",
     "output_type": "stream",
     "text": [
      "原始二维数组：\n",
      " [[1 2]\n",
      " [4 5]\n",
      " [7 8]]\n",
      "flatten结果： [1 2 4 5 7 8]\n",
      "ravel结果：   [1 2 4 5 7 8]\n"
     ]
    }
   ],
   "source": [
    "print(\"原始二维数组：\\n\", physical_2d)\n",
    "print(\"flatten结果：\", physical_1d_flatten)\n",
    "print(\"ravel结果：  \", physical_1d_ravel)\n"
   ]
  },
  {
   "cell_type": "code",
   "execution_count": 9,
   "id": "eb09cf98",
   "metadata": {},
   "outputs": [
    {
     "name": "stdout",
     "output_type": "stream",
     "text": [
      "V2D.shape = (29, 29)\n",
      "V_cells.shape = (28, 28)\n"
     ]
    }
   ],
   "source": [
    "import numpy as np\n",
    "\n",
    "# 假设 num_cell 已知\n",
    "num_cell = 28\n",
    "V_leftBC  = -1\n",
    "V_rightBC =  1\n",
    "diff      = (V_rightBC - V_leftBC) / num_cell\n",
    "\n",
    "# 1) 生成 1D 节点上的电势\n",
    "V1D = np.zeros(num_cell+1)\n",
    "V1D[0]            = V_leftBC\n",
    "V1D[1:num_cell]   = V_leftBC + diff * np.arange(1, num_cell)\n",
    "V1D[num_cell]     = V_rightBC\n",
    "\n",
    "# 2) 把它沿 y 方向复制成 2D\n",
    "#    结果是 shape = (num_cell+1, num_cell+1)，\n",
    "#    每一行（固定 y）都跟 V1D 一样\n",
    "V2D = np.tile(V1D, (num_cell+1, 1))\n",
    "\n",
    "# 如果你只需要 cell-centered （即 shape=(num_cell,num_cell)），\n",
    "# 可以直接去掉最后一行和最后一列：\n",
    "V_cells = V2D[:-1, :-1]\n",
    "print(f'V2D.shape = {V2D.shape}\\nV_cells.shape = {V_cells.shape}')"
   ]
  },
  {
   "cell_type": "code",
   "execution_count": 1,
   "id": "c21a5a72",
   "metadata": {},
   "outputs": [
    {
     "name": "stdout",
     "output_type": "stream",
     "text": [
      "V_flat shape: (3844,)\n",
      "V2d shape: (62, 62)\n",
      "V[10,20] = -5.263658559786916\n",
      "V_flat[640] = -5.263658559786916\n"
     ]
    }
   ],
   "source": [
    "import numpy as np\n",
    "\n",
    "\n",
    "def init_voltage_2d(nx, ny, V_leftBC, V_rightBC):\n",
    "    \"\"\"\n",
    "    初始化二维网格上的电压，使其在 x 方向上从 V_leftBC 到 V_rightBC 均匀分布。\n",
    "\n",
    "    参数:\n",
    "    - nx: 网格在 x 方向的节点数（列数）。\n",
    "    - ny: 网格在 y 方向的节点数（行数）。\n",
    "    - V_leftBC: 左边界电压值。\n",
    "    - V_rightBC: 右边界电压值。\n",
    "\n",
    "    返回:\n",
    "    - V: 一维 numpy 数组，长度为 nx * ny，按行优先（row-major）存储电压分布。\n",
    "    - V2d: 二维 numpy 数组，形状为 (ny, nx)，可直接按 (行, 列) 访问。\n",
    "    \"\"\"\n",
    "    # 在 x 方向生成均匀分布的电压值\n",
    "    x_vals = np.linspace(V_leftBC, V_rightBC, nx)\n",
    "\n",
    "    # 将 x 方向的电压分布复制到每一行，得到 2D 数组\n",
    "    V2d = np.tile(x_vals, (ny, 1))\n",
    "\n",
    "    # 如果需要一维扁平化表示：\n",
    "    V = V2d.ravel()\n",
    "\n",
    "    return V, V2d\n",
    "\n",
    "\n",
    "if __name__ == \"__main__\":\n",
    "    # 网格大小\n",
    "    nx, ny = 62, 62\n",
    "\n",
    "    # 模拟边界条件参数示例（请替换为实际参数）\n",
    "    # Vbi: built-in potential；const.Vt: 热电压；params.phi_a, params.phi_c: 电极功函数\n",
    "    Vbi = 1.0         # 示例值\n",
    "    const_Vt = 0.02585 # 示例：室温下约 25.85 mV\n",
    "    phi_a = 0.2       # 示例值\n",
    "    phi_c = 0.3       # 示例值\n",
    "\n",
    "    # 计算左右边界电压\n",
    "    V_leftBC = -((Vbi) / (2 * const_Vt) - phi_a / const_Vt)\n",
    "    V_rightBC = (Vbi) / (2 * const_Vt) - phi_c / const_Vt\n",
    "\n",
    "    # 初始化电压\n",
    "    V_flat, V2d = init_voltage_2d(nx, ny, V_leftBC, V_rightBC)\n",
    "\n",
    "    # 检查结果\n",
    "    print(f\"V_flat shape: {V_flat.shape}\")   # 应为 (3844,)\n",
    "    print(f\"V2d shape: {V2d.shape}\")         # 应为 (62, 62)\n",
    "    \n",
    "    # 访问示例：按 (i,j) 获取第 i 行、第 j 列的电压\n",
    "    i, j = 10, 20\n",
    "    V_ij = V2d[i, j]\n",
    "    print(f\"V[{i},{j}] = {V_ij}\")\n",
    "\n",
    "    # 如果需要按一维索引访问，可以：\n",
    "    idx = i * nx + j\n",
    "    print(f\"V_flat[{idx}] = {V_flat[idx]}\")\n"
   ]
  }
 ],
 "metadata": {
  "kernelspec": {
   "display_name": "xxy",
   "language": "python",
   "name": "python3"
  },
  "language_info": {
   "codemirror_mode": {
    "name": "ipython",
    "version": 3
   },
   "file_extension": ".py",
   "mimetype": "text/x-python",
   "name": "python",
   "nbconvert_exporter": "python",
   "pygments_lexer": "ipython3",
   "version": "3.10.16"
  }
 },
 "nbformat": 4,
 "nbformat_minor": 5
}
